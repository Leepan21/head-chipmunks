{
 "cells": [
  {
   "cell_type": "code",
   "execution_count": 2,
   "id": "3e22572b-1fc1-4fbc-9041-9885f28de42d",
   "metadata": {},
   "outputs": [
    {
     "name": "stderr",
     "output_type": "stream",
     "text": [
      "C:\\Users\\minia\\AppData\\Local\\Temp\\ipykernel_33084\\1770463092.py:14: FutureWarning: The default of observed=False is deprecated and will be changed to True in a future version of pandas. Pass observed=False to retain current behavior or observed=True to adopt the future default and silence this warning.\n",
      "  agg_data = data.groupby(['Age Group', 'Data Usage Group', 'Apps Installed Group'])['Battery Drain (mAh/day)'].mean().reset_index()\n"
     ]
    },
    {
     "data": {
      "text/html": [
       "\n",
       "        <iframe\n",
       "            width=\"100%\"\n",
       "            height=\"650\"\n",
       "            src=\"http://127.0.0.1:8050/\"\n",
       "            frameborder=\"0\"\n",
       "            allowfullscreen\n",
       "            \n",
       "        ></iframe>\n",
       "        "
      ],
      "text/plain": [
       "<IPython.lib.display.IFrame at 0x1dd41231640>"
      ]
     },
     "metadata": {},
     "output_type": "display_data"
    }
   ],
   "source": [
    "import pandas as pd\n",
    "from dash import Dash, dcc, html, Input, Output\n",
    "import plotly.express as px\n",
    "\n",
    "# Load the dataset\n",
    "data = pd.read_csv('user_behavior_dataset.csv')\n",
    "\n",
    "# Bin the variables\n",
    "data['Age Group'] = pd.cut(data['Age'], bins=[10, 20, 30, 40, 50, 60], labels=['10-20', '21-30', '31-40', '41-50', '51-60'])\n",
    "data['Data Usage Group'] = pd.cut(data['Data Usage (MB/day)'], bins=[0, 500, 1000, 1500, 2000], labels=['0-500', '501-1000', '1001-1500', '1501-2000'])\n",
    "data['Apps Installed Group'] = pd.cut(data['Number of Apps Installed'], bins=[0, 20, 40, 60, 80, 100], labels=['0-20', '21-40', '41-60', '61-80', '81-100'])\n",
    "\n",
    "# Aggregate data\n",
    "agg_data = data.groupby(['Age Group', 'Data Usage Group', 'Apps Installed Group'])['Battery Drain (mAh/day)'].mean().reset_index()\n",
    "\n",
    "# Initialize Dash app\n",
    "app = Dash(__name__)\n",
    "\n",
    "app.layout = html.Div([\n",
    "    html.H1(\"Interactive Battery Drain Analysis\", style={'textAlign': 'center'}),\n",
    "    \n",
    "    # Dropdown for Age Group selection\n",
    "    html.Label(\"Select Age Group:\"),\n",
    "    dcc.Dropdown(\n",
    "        id=\"age-group-dropdown\",\n",
    "        options=[{\"label\": age, \"value\": age} for age in data['Age Group'].cat.categories],\n",
    "        value=\"10-20\",\n",
    "        multi=False\n",
    "    ),\n",
    "    \n",
    "    # Graph to display results\n",
    "    dcc.Graph(id=\"bar-chart\"),\n",
    "])\n",
    "\n",
    "@app.callback(\n",
    "    Output(\"bar-chart\", \"figure\"),\n",
    "    Input(\"age-group-dropdown\", \"value\")\n",
    ")\n",
    "def update_chart(selected_age_group):\n",
    "    filtered_data = agg_data[agg_data['Age Group'] == selected_age_group]\n",
    "    fig = px.bar(\n",
    "        filtered_data,\n",
    "        x=\"Data Usage Group\",\n",
    "        y=\"Battery Drain (mAh/day)\",\n",
    "        color=\"Apps Installed Group\",\n",
    "        barmode=\"group\",\n",
    "        title=f\"Battery Drain for Age Group: {selected_age_group}\",\n",
    "        labels={\"Battery Drain (mAh/day)\": \"Battery Drain\"}\n",
    "    )\n",
    "    return fig\n",
    "\n",
    "if __name__ == '__main__':\n",
    "    app.run_server(debug=True)\n"
   ]
  },
  {
   "cell_type": "code",
   "execution_count": null,
   "id": "46bd84d8-6f50-487b-94c3-55a370b20b80",
   "metadata": {},
   "outputs": [],
   "source": []
  }
 ],
 "metadata": {
  "kernelspec": {
   "display_name": "Python 3 (ipykernel)",
   "language": "python",
   "name": "python3"
  },
  "language_info": {
   "codemirror_mode": {
    "name": "ipython",
    "version": 3
   },
   "file_extension": ".py",
   "mimetype": "text/x-python",
   "name": "python",
   "nbconvert_exporter": "python",
   "pygments_lexer": "ipython3",
   "version": "3.12.6"
  }
 },
 "nbformat": 4,
 "nbformat_minor": 5
}
